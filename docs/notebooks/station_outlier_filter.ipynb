{
 "cells": [
  {
   "cell_type": "markdown",
   "id": "f2ecd1ff-2f6f-41b9-9a75-51d03ae72f06",
   "metadata": {
    "editable": true,
    "slideshow": {
     "slide_type": ""
    },
    "tags": []
   },
   "source": [
    "# Station Outlier filter\n",
    "\n",
    "This notebook shows the \"station outlier filter\" to detect... \n",
    "\n",
    "The original R code stems from https://github.com/LottedeVos/PWSQC/. \n",
    "\n",
    "Publication:\n",
    "de Vos, L. W., Leijnse, H., Overeem, A., & Uijlenhoet, R. (2019). Quality control for crowdsourced personal weather stations to enable operational rainfall monitoring. _Geophysical Research Letters_, 46(15), 8820-8829.\n",
    "\n",
    "The idea of the filter is to... "
   ]
  },
  {
   "cell_type": "code",
   "execution_count": 1,
   "id": "78857b63-6c25-4391-be95-119a6e906aeb",
   "metadata": {},
   "outputs": [],
   "source": [
    "# Import packages\n",
    "\n",
    "import warnings\n",
    "\n",
    "import numpy as np\n",
    "import xarray as xr\n",
    "import poligrain as plg\n",
    "import matplotlib.pyplot as plt\n",
    "import pandas as pd\n",
    "\n",
    "import time"
   ]
  },
  {
   "cell_type": "code",
   "execution_count": 2,
   "id": "aba44b2e-9fa5-4c02-8c00-9dc0bc11f7f8",
   "metadata": {},
   "outputs": [],
   "source": [
    "#ds_pws = xr.open_dataset('C:/Users/a002461/OPENSENSE/data/OpenSense_PWS_data_FZ_filtered_rainfall.nc')\n",
    "ds_pws = xr.open_dataset('OpenSense_PWS_example_format_data.nc')"
   ]
  },
  {
   "cell_type": "code",
   "execution_count": 3,
   "id": "97de88b0-f3bf-4ca0-995f-db0ca37452ba",
   "metadata": {},
   "outputs": [],
   "source": [
    "#slice to one month\n",
    "ds_pws = ds_pws.sel(time = slice('2017-07-01','2017-07-31'))"
   ]
  },
  {
   "cell_type": "markdown",
   "id": "7b3cb873-e151-4fe4-8391-48479cf0179a",
   "metadata": {},
   "source": [
    "## Calculate distance matrix"
   ]
  },
  {
   "cell_type": "code",
   "execution_count": 4,
   "id": "8fd802fb-6c9d-4e8a-bd4c-2f9490d28f95",
   "metadata": {},
   "outputs": [],
   "source": [
    "ds_pws.coords[\"x\"], ds_pws.coords[\"y\"] = plg.spatial.project_point_coordinates(\n",
    "    x=ds_pws.longitude, y=ds_pws.latitude, target_projection=\"EPSG:25832\"\n",
    ")"
   ]
  },
  {
   "cell_type": "code",
   "execution_count": 5,
   "id": "e9162a6c-81a7-4909-8b48-85d9b7720160",
   "metadata": {},
   "outputs": [],
   "source": [
    "distance_matrix = plg.spatial.calc_point_to_point_distances(ds_pws, ds_pws)"
   ]
  },
  {
   "cell_type": "markdown",
   "id": "2bdf3e5b-208e-46a2-a96b-37f3e21f3187",
   "metadata": {},
   "source": [
    "## SO filter (fixed evaluation period only)"
   ]
  },
  {
   "cell_type": "code",
   "execution_count": 6,
   "id": "7f13cfb3-9b8c-4cb5-9115-8ccbebdc07e3",
   "metadata": {
    "scrolled": true
   },
   "outputs": [],
   "source": [
    "# Set parameters\n",
    "mint = 4032\n",
    "mrain = 100\n",
    "mmatch = 200\n",
    "gamma = 0.35 # 0.15 original (gives very few SO-flags)\n",
    "beta = 0.2\n",
    "n_stat = 5\n",
    "max_distance = 10e3 # Boolean 2D data array, defining neihbours within max_distance for all stations\n",
    "dbc = 1"
   ]
  },
  {
   "cell_type": "code",
   "execution_count": 7,
   "id": "04563e57-d33a-4a36-8d4a-3a8a89e4117c",
   "metadata": {},
   "outputs": [],
   "source": [
    "# initalize SO-flag\n",
    "ds_pws[\"so_flag\"] = xr.DataArray(np.ones((len(ds_pws.id), len(ds_pws.time)))*-999, dims=(\"id\", \"time\"))"
   ]
  },
  {
   "cell_type": "code",
   "execution_count": 27,
   "id": "eb1c162c-0360-46f5-8f39-8b55c59d6d55",
   "metadata": {},
   "outputs": [],
   "source": [
    "def SO_filter(da_station, da_neighbors, window_length):\n",
    "    s_station = da_station.to_series()\n",
    "    s_neighbors = da_neighbors.to_series()\n",
    "    \n",
    "    corr = s_station.rolling(window_length, min_periods=1).corr(s_neighbors)\n",
    "    ds = xr.Dataset.from_dataframe(pd.DataFrame({'corr': corr}))\n",
    "    \n",
    "    mean_corr = ds.mean(dim = \"id\", skipna = True)\n",
    "    return xr.where(mean_corr.corr < gamma, 1, 0) \n"
   ]
  },
  {
   "cell_type": "code",
   "execution_count": 29,
   "id": "5e3374ae-9516-4c1b-ae74-258ba80412ab",
   "metadata": {
    "editable": true,
    "slideshow": {
     "slide_type": ""
    },
    "tags": []
   },
   "outputs": [
    {
     "name": "stdout",
     "output_type": "stream",
     "text": [
      "CPU times: total: 93.8 ms\n",
      "Wall time: 99.3 ms\n"
     ]
    },
    {
     "name": "stderr",
     "output_type": "stream",
     "text": [
      "C:\\Users\\a002461\\AppData\\Local\\pypoetry\\Cache\\virtualenvs\\pypwsqc-jhedPHd3-py3.10\\lib\\site-packages\\numpy\\core\\fromnumeric.py:88: RuntimeWarning: invalid value encountered in reduce\n",
      "  return ufunc.reduce(obj, axis, dtype, out, **passkwargs)\n"
     ]
    }
   ],
   "source": [
    "%%time\n",
    "\n",
    "for i in range(len(ds_pws.id)):\n",
    "\n",
    "    # create data set for station i\n",
    "    ds_station = ds_pws.isel(id=i) \n",
    "    pws_id = ds_station.id.values\n",
    "\n",
    "    # one bias correction factor per station, iteratively updated PER TIME STEP ??\n",
    "    BCF_prev = dbc\n",
    "\n",
    "    # picking stations within max_distnance, excluding itself, for the whole duration of the time series\n",
    "    neighbor_ids = distance_matrix.id.data[(distance_matrix.sel(id=pws_id) < max_distance) & (distance_matrix.sel(id=pws_id) > 0)]\n",
    "\n",
    "    #create data set for neighbors\n",
    "    ds_neighbors = ds_pws.sel(id=neighbor_ids)\n",
    "\n",
    "    # if there are less than mmatch overlapping rainy timesteps in the last mint period, filter cannot be applied\n",
    "    # number of rainy time steps in rolling window of lenght mint\n",
    "    # matches = rainy_timesteps(ds_station.rainfall, ds_neighbors.rainfall, window_length=mint)\n",
    "    # xr.where(matches < mmatch, 1, 0)\n",
    "    \n",
    "    # if there are no observations in the time series, filter cannot be applied\n",
    "    if ds_pws.rainfall.sel(id=pws_id).isnull().all():\n",
    "        # print(pws_id, \" has no data\")\n",
    "        ds_pws.so_flag[i, :] = -1\n",
    "        \n",
    "    # if there are not enough stations nearby, filter cannot be applied\n",
    "    elif (len(neighbor_ids) < n_stat):\n",
    "        # print(pws_id, \"has less than\", n_stat, \"neighbors\")\n",
    "        ds_pws.so_flag[i, :] = -1\n",
    "        \n",
    "    else: \n",
    "        # print(\"calculating SO-flag for\", pws_id)\n",
    "        ds_corr = SO_filter(ds_station.rainfall, ds_neighbors.rainfall, window_length=mint)\n",
    "        ds_pws.so_flag[i, :] = ds_corr.data\n",
    "        "
   ]
  },
  {
   "cell_type": "markdown",
   "id": "6c8851a4-8812-453d-97da-5c52be46137c",
   "metadata": {},
   "source": [
    "## Bias (next step to fix) "
   ]
  },
  {
   "cell_type": "code",
   "execution_count": 13,
   "id": "ff985b87-19c7-4d0a-b983-844888d95d99",
   "metadata": {},
   "outputs": [],
   "source": [
    "# initialize \n",
    "\n",
    "ds_pws[\"bias\"] = xr.DataArray(np.ones((len(ds_pws.id), len(ds_pws.time)))*-999, dims=(\"id\", \"time\"))"
   ]
  },
  {
   "cell_type": "code",
   "execution_count": 14,
   "id": "5c7462aa-dc16-4816-9cb3-8a195e3e4f19",
   "metadata": {},
   "outputs": [],
   "source": [
    "def bias(station_rainfall, reference_rainfall):\n",
    "    delta_r = station_rainfall - reference_rainfall\n",
    "    return np.nanmean(delta_r) / np.nanmean(reference_rainfall)"
   ]
  },
  {
   "cell_type": "code",
   "execution_count": 15,
   "id": "5d06dbee-d22e-4815-9059-9226ef456d50",
   "metadata": {},
   "outputs": [],
   "source": [
    "# ds_bias = bias(ds_station.rainfall, ds_neighbors.rainfall, window_length=mint)\n",
    "# bias_list.append(ds_corr.corr.median(dim='id'))\n",
    "\n",
    "# Update bias or keep bias "
   ]
  },
  {
   "cell_type": "code",
   "execution_count": 16,
   "id": "822a34a1-d8e3-49c6-9a86-d05ae5b30a91",
   "metadata": {},
   "outputs": [],
   "source": [
    "# ds_pws['median_corr'] = (('id', 'time'), corr_list)"
   ]
  },
  {
   "cell_type": "code",
   "execution_count": 17,
   "id": "e24b5bfc-94a0-4677-97b1-fdb704df93f1",
   "metadata": {},
   "outputs": [],
   "source": [
    "# add flags to dataset\n",
    "# ds_pws[\"bias\"] = ((\"id\", \"time\"), biascorrectiontable)"
   ]
  },
  {
   "cell_type": "code",
   "execution_count": 18,
   "id": "b6a3846c-eb4f-4266-aab2-828d1655bcfc",
   "metadata": {},
   "outputs": [],
   "source": [
    "# ds_pws.to_netcdf('C:/Users/a002461/OPENSENSE/data/OpenSense_PWS_example_format_data_SO_flags.nc')"
   ]
  },
  {
   "cell_type": "code",
   "execution_count": 19,
   "id": "2f705aae-890d-4852-b4f1-03974c6b5dfc",
   "metadata": {},
   "outputs": [],
   "source": [
    "#so_flag = pypwsqc.flagging.so_filter(\n",
    "#    ds_pws.rainfall,\n",
    "#    ds_pws.nbrs_not_nan,\n",
    "#    ds_pws.reference,\n",
    "#    distance_matrix,\n",
    "#    mint = 4032,\n",
    "#    mrain = 100,\n",
    "#    mmatch = 200,\n",
    "#    gamma = 0.15,\n",
    "#   beta = 0.2,\n",
    "#    n_stat = 5,\n",
    "#    max_distance = 10e3,\n",
    "#)"
   ]
  }
 ],
 "metadata": {
  "kernelspec": {
   "display_name": "Python 3 (ipykernel)",
   "language": "python",
   "name": "python3"
  },
  "language_info": {
   "codemirror_mode": {
    "name": "ipython",
    "version": 3
   },
   "file_extension": ".py",
   "mimetype": "text/x-python",
   "name": "python",
   "nbconvert_exporter": "python",
   "pygments_lexer": "ipython3",
   "version": "3.10.12"
  }
 },
 "nbformat": 4,
 "nbformat_minor": 5
}
